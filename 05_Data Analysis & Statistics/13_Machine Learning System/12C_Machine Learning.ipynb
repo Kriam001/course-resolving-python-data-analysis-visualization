{
 "cells": [
  {
   "cell_type": "markdown",
   "id": "29778fd4-3b3c-485f-95a9-e7750bba38b0",
   "metadata": {},
   "source": [
    "# Introduction to Machine Learning\n",
    "\n",
    "- Use [this CheatSheet](https://www.craft.do/s/bj8CiGxswdNZl3/b/2CC9B9A0-7484-45FD-9097-52ED788D4925/The-Machine-Learning-System) to work better with the following exercises."
   ]
  },
  {
   "cell_type": "markdown",
   "id": "cea929c0-7c37-41cc-8fe2-4c40d9344890",
   "metadata": {},
   "source": [
    "## Load the data"
   ]
  },
  {
   "cell_type": "code",
   "execution_count": 3,
   "id": "d169a4a6-c0eb-4d3d-8259-d0dd9f80aca5",
   "metadata": {},
   "outputs": [],
   "source": [
    "import seaborn as sns"
   ]
  },
  {
   "cell_type": "code",
   "execution_count": 4,
   "id": "a68acda8-84d7-459d-b8da-0fa601ffe472",
   "metadata": {},
   "outputs": [
    {
     "data": {
      "text/plain": [
       "['anagrams',\n",
       " 'anscombe',\n",
       " 'attention',\n",
       " 'brain_networks',\n",
       " 'car_crashes',\n",
       " 'diamonds',\n",
       " 'dots',\n",
       " 'dowjones',\n",
       " 'exercise',\n",
       " 'flights',\n",
       " 'fmri',\n",
       " 'geyser',\n",
       " 'glue',\n",
       " 'healthexp',\n",
       " 'iris',\n",
       " 'mpg',\n",
       " 'penguins',\n",
       " 'planets',\n",
       " 'seaice',\n",
       " 'taxis',\n",
       " 'tips',\n",
       " 'titanic']"
      ]
     },
     "execution_count": 4,
     "metadata": {},
     "output_type": "execute_result"
    }
   ],
   "source": [
    "sns.get_dataset_names()"
   ]
  },
  {
   "cell_type": "markdown",
   "id": "2672655a-e835-4b78-9a1d-28268221d9ae",
   "metadata": {},
   "source": [
    "Load one of the datasets from the previous list"
   ]
  },
  {
   "cell_type": "code",
   "execution_count": 5,
   "id": "185f72af-3f34-49c2-a86a-395521ed2ace",
   "metadata": {},
   "outputs": [
    {
     "data": {
      "text/html": [
       "<div>\n",
       "<style scoped>\n",
       "    .dataframe tbody tr th:only-of-type {\n",
       "        vertical-align: middle;\n",
       "    }\n",
       "\n",
       "    .dataframe tbody tr th {\n",
       "        vertical-align: top;\n",
       "    }\n",
       "\n",
       "    .dataframe thead th {\n",
       "        text-align: right;\n",
       "    }\n",
       "</style>\n",
       "<table border=\"1\" class=\"dataframe\">\n",
       "  <thead>\n",
       "    <tr style=\"text-align: right;\">\n",
       "      <th></th>\n",
       "      <th>total_bill</th>\n",
       "      <th>tip</th>\n",
       "      <th>sex</th>\n",
       "      <th>smoker</th>\n",
       "      <th>day</th>\n",
       "      <th>time</th>\n",
       "      <th>size</th>\n",
       "    </tr>\n",
       "  </thead>\n",
       "  <tbody>\n",
       "    <tr>\n",
       "      <th>0</th>\n",
       "      <td>16.99</td>\n",
       "      <td>1.01</td>\n",
       "      <td>Female</td>\n",
       "      <td>No</td>\n",
       "      <td>Sun</td>\n",
       "      <td>Dinner</td>\n",
       "      <td>2</td>\n",
       "    </tr>\n",
       "    <tr>\n",
       "      <th>1</th>\n",
       "      <td>10.34</td>\n",
       "      <td>1.66</td>\n",
       "      <td>Male</td>\n",
       "      <td>No</td>\n",
       "      <td>Sun</td>\n",
       "      <td>Dinner</td>\n",
       "      <td>3</td>\n",
       "    </tr>\n",
       "    <tr>\n",
       "      <th>2</th>\n",
       "      <td>21.01</td>\n",
       "      <td>3.50</td>\n",
       "      <td>Male</td>\n",
       "      <td>No</td>\n",
       "      <td>Sun</td>\n",
       "      <td>Dinner</td>\n",
       "      <td>3</td>\n",
       "    </tr>\n",
       "    <tr>\n",
       "      <th>3</th>\n",
       "      <td>23.68</td>\n",
       "      <td>3.31</td>\n",
       "      <td>Male</td>\n",
       "      <td>No</td>\n",
       "      <td>Sun</td>\n",
       "      <td>Dinner</td>\n",
       "      <td>2</td>\n",
       "    </tr>\n",
       "    <tr>\n",
       "      <th>4</th>\n",
       "      <td>24.59</td>\n",
       "      <td>3.61</td>\n",
       "      <td>Female</td>\n",
       "      <td>No</td>\n",
       "      <td>Sun</td>\n",
       "      <td>Dinner</td>\n",
       "      <td>4</td>\n",
       "    </tr>\n",
       "    <tr>\n",
       "      <th>...</th>\n",
       "      <td>...</td>\n",
       "      <td>...</td>\n",
       "      <td>...</td>\n",
       "      <td>...</td>\n",
       "      <td>...</td>\n",
       "      <td>...</td>\n",
       "      <td>...</td>\n",
       "    </tr>\n",
       "    <tr>\n",
       "      <th>239</th>\n",
       "      <td>29.03</td>\n",
       "      <td>5.92</td>\n",
       "      <td>Male</td>\n",
       "      <td>No</td>\n",
       "      <td>Sat</td>\n",
       "      <td>Dinner</td>\n",
       "      <td>3</td>\n",
       "    </tr>\n",
       "    <tr>\n",
       "      <th>240</th>\n",
       "      <td>27.18</td>\n",
       "      <td>2.00</td>\n",
       "      <td>Female</td>\n",
       "      <td>Yes</td>\n",
       "      <td>Sat</td>\n",
       "      <td>Dinner</td>\n",
       "      <td>2</td>\n",
       "    </tr>\n",
       "    <tr>\n",
       "      <th>241</th>\n",
       "      <td>22.67</td>\n",
       "      <td>2.00</td>\n",
       "      <td>Male</td>\n",
       "      <td>Yes</td>\n",
       "      <td>Sat</td>\n",
       "      <td>Dinner</td>\n",
       "      <td>2</td>\n",
       "    </tr>\n",
       "    <tr>\n",
       "      <th>242</th>\n",
       "      <td>17.82</td>\n",
       "      <td>1.75</td>\n",
       "      <td>Male</td>\n",
       "      <td>No</td>\n",
       "      <td>Sat</td>\n",
       "      <td>Dinner</td>\n",
       "      <td>2</td>\n",
       "    </tr>\n",
       "    <tr>\n",
       "      <th>243</th>\n",
       "      <td>18.78</td>\n",
       "      <td>3.00</td>\n",
       "      <td>Female</td>\n",
       "      <td>No</td>\n",
       "      <td>Thur</td>\n",
       "      <td>Dinner</td>\n",
       "      <td>2</td>\n",
       "    </tr>\n",
       "  </tbody>\n",
       "</table>\n",
       "<p>244 rows × 7 columns</p>\n",
       "</div>"
      ],
      "text/plain": [
       "     total_bill   tip     sex smoker   day    time  size\n",
       "0         16.99  1.01  Female     No   Sun  Dinner     2\n",
       "1         10.34  1.66    Male     No   Sun  Dinner     3\n",
       "2         21.01  3.50    Male     No   Sun  Dinner     3\n",
       "3         23.68  3.31    Male     No   Sun  Dinner     2\n",
       "4         24.59  3.61  Female     No   Sun  Dinner     4\n",
       "..          ...   ...     ...    ...   ...     ...   ...\n",
       "239       29.03  5.92    Male     No   Sat  Dinner     3\n",
       "240       27.18  2.00  Female    Yes   Sat  Dinner     2\n",
       "241       22.67  2.00    Male    Yes   Sat  Dinner     2\n",
       "242       17.82  1.75    Male     No   Sat  Dinner     2\n",
       "243       18.78  3.00  Female     No  Thur  Dinner     2\n",
       "\n",
       "[244 rows x 7 columns]"
      ]
     },
     "execution_count": 5,
     "metadata": {},
     "output_type": "execute_result"
    }
   ],
   "source": [
    "df_tips = sns.load_dataset('tips')\n",
    "df_tips"
   ]
  },
  {
   "cell_type": "markdown",
   "id": "4481a5f1-63d3-44dd-b7a0-6a76ae74b36a",
   "metadata": {},
   "source": [
    "## Select the variables for the model\n",
    "\n",
    "**Both variables must be continuous**\n",
    "\n",
    "1. y: the variable you want to predict\n",
    "2. X: the variable you will use to calculate the prediction y"
   ]
  },
  {
   "cell_type": "code",
   "execution_count": 14,
   "id": "0c022284-28e5-45bb-a89f-d3a699161ba2",
   "metadata": {},
   "outputs": [],
   "source": [
    "x = df_tips[[\"total_bill\"]]\n",
    "y = df_tips[[\"tip\"]]"
   ]
  },
  {
   "cell_type": "markdown",
   "id": "a02dfd04-f2eb-4f15-a5dd-9ff50eec2419",
   "metadata": {},
   "source": [
    "## The Linear Regression ML Model"
   ]
  },
  {
   "cell_type": "markdown",
   "id": "f73cc2cb-aef7-40ef-b1df-e326f078484a",
   "metadata": {},
   "source": [
    "### Fit the model with the data"
   ]
  },
  {
   "cell_type": "code",
   "execution_count": 15,
   "id": "d5e8b791-345e-415a-a455-2dd58b2777b3",
   "metadata": {},
   "outputs": [
    {
     "data": {
      "text/html": [
       "<style>#sk-container-id-1 {color: black;}#sk-container-id-1 pre{padding: 0;}#sk-container-id-1 div.sk-toggleable {background-color: white;}#sk-container-id-1 label.sk-toggleable__label {cursor: pointer;display: block;width: 100%;margin-bottom: 0;padding: 0.3em;box-sizing: border-box;text-align: center;}#sk-container-id-1 label.sk-toggleable__label-arrow:before {content: \"▸\";float: left;margin-right: 0.25em;color: #696969;}#sk-container-id-1 label.sk-toggleable__label-arrow:hover:before {color: black;}#sk-container-id-1 div.sk-estimator:hover label.sk-toggleable__label-arrow:before {color: black;}#sk-container-id-1 div.sk-toggleable__content {max-height: 0;max-width: 0;overflow: hidden;text-align: left;background-color: #f0f8ff;}#sk-container-id-1 div.sk-toggleable__content pre {margin: 0.2em;color: black;border-radius: 0.25em;background-color: #f0f8ff;}#sk-container-id-1 input.sk-toggleable__control:checked~div.sk-toggleable__content {max-height: 200px;max-width: 100%;overflow: auto;}#sk-container-id-1 input.sk-toggleable__control:checked~label.sk-toggleable__label-arrow:before {content: \"▾\";}#sk-container-id-1 div.sk-estimator input.sk-toggleable__control:checked~label.sk-toggleable__label {background-color: #d4ebff;}#sk-container-id-1 div.sk-label input.sk-toggleable__control:checked~label.sk-toggleable__label {background-color: #d4ebff;}#sk-container-id-1 input.sk-hidden--visually {border: 0;clip: rect(1px 1px 1px 1px);clip: rect(1px, 1px, 1px, 1px);height: 1px;margin: -1px;overflow: hidden;padding: 0;position: absolute;width: 1px;}#sk-container-id-1 div.sk-estimator {font-family: monospace;background-color: #f0f8ff;border: 1px dotted black;border-radius: 0.25em;box-sizing: border-box;margin-bottom: 0.5em;}#sk-container-id-1 div.sk-estimator:hover {background-color: #d4ebff;}#sk-container-id-1 div.sk-parallel-item::after {content: \"\";width: 100%;border-bottom: 1px solid gray;flex-grow: 1;}#sk-container-id-1 div.sk-label:hover label.sk-toggleable__label {background-color: #d4ebff;}#sk-container-id-1 div.sk-serial::before {content: \"\";position: absolute;border-left: 1px solid gray;box-sizing: border-box;top: 0;bottom: 0;left: 50%;z-index: 0;}#sk-container-id-1 div.sk-serial {display: flex;flex-direction: column;align-items: center;background-color: white;padding-right: 0.2em;padding-left: 0.2em;position: relative;}#sk-container-id-1 div.sk-item {position: relative;z-index: 1;}#sk-container-id-1 div.sk-parallel {display: flex;align-items: stretch;justify-content: center;background-color: white;position: relative;}#sk-container-id-1 div.sk-item::before, #sk-container-id-1 div.sk-parallel-item::before {content: \"\";position: absolute;border-left: 1px solid gray;box-sizing: border-box;top: 0;bottom: 0;left: 50%;z-index: -1;}#sk-container-id-1 div.sk-parallel-item {display: flex;flex-direction: column;z-index: 1;position: relative;background-color: white;}#sk-container-id-1 div.sk-parallel-item:first-child::after {align-self: flex-end;width: 50%;}#sk-container-id-1 div.sk-parallel-item:last-child::after {align-self: flex-start;width: 50%;}#sk-container-id-1 div.sk-parallel-item:only-child::after {width: 0;}#sk-container-id-1 div.sk-dashed-wrapped {border: 1px dashed gray;margin: 0 0.4em 0.5em 0.4em;box-sizing: border-box;padding-bottom: 0.4em;background-color: white;}#sk-container-id-1 div.sk-label label {font-family: monospace;font-weight: bold;display: inline-block;line-height: 1.2em;}#sk-container-id-1 div.sk-label-container {text-align: center;}#sk-container-id-1 div.sk-container {/* jupyter's `normalize.less` sets `[hidden] { display: none; }` but bootstrap.min.css set `[hidden] { display: none !important; }` so we also need the `!important` here to be able to override the default hidden behavior on the sphinx rendered scikit-learn.org. See: https://github.com/scikit-learn/scikit-learn/issues/21755 */display: inline-block !important;position: relative;}#sk-container-id-1 div.sk-text-repr-fallback {display: none;}</style><div id=\"sk-container-id-1\" class=\"sk-top-container\"><div class=\"sk-text-repr-fallback\"><pre>LinearRegression()</pre><b>In a Jupyter environment, please rerun this cell to show the HTML representation or trust the notebook. <br />On GitHub, the HTML representation is unable to render, please try loading this page with nbviewer.org.</b></div><div class=\"sk-container\" hidden><div class=\"sk-item\"><div class=\"sk-estimator sk-toggleable\"><input class=\"sk-toggleable__control sk-hidden--visually\" id=\"sk-estimator-id-1\" type=\"checkbox\" checked><label for=\"sk-estimator-id-1\" class=\"sk-toggleable__label sk-toggleable__label-arrow\">LinearRegression</label><div class=\"sk-toggleable__content\"><pre>LinearRegression()</pre></div></div></div></div></div>"
      ],
      "text/plain": [
       "LinearRegression()"
      ]
     },
     "execution_count": 15,
     "metadata": {},
     "output_type": "execute_result"
    }
   ],
   "source": [
    "from sklearn.linear_model import LinearRegression\n",
    "model = LinearRegression()\n",
    "model.fit(x, y)"
   ]
  },
  {
   "cell_type": "markdown",
   "id": "49819c02-1c2a-4ac8-b09e-2458a6e5280f",
   "metadata": {},
   "source": [
    "### Predictions"
   ]
  },
  {
   "cell_type": "markdown",
   "id": "3f594fcd-1dce-4117-927e-61916624c328",
   "metadata": {},
   "source": [
    "#### Calculate the predictions"
   ]
  },
  {
   "cell_type": "code",
   "execution_count": 16,
   "id": "fd167062-c4e6-4fdd-ae4e-944030cf58b3",
   "metadata": {},
   "outputs": [
    {
     "data": {
      "text/plain": [
       "array([[2.70463616],\n",
       "       [2.00622312],\n",
       "       [3.12683472],\n",
       "       [3.40725019],\n",
       "       [3.5028225 ],\n",
       "       [3.57633966],\n",
       "       [1.84133463],\n",
       "       [3.74332864],\n",
       "       [2.49983836],\n",
       "       [2.47253198],\n",
       "       [1.99887141],\n",
       "       [4.6234341 ],\n",
       "       [2.53974767],\n",
       "       [2.85587147],\n",
       "       [2.47778321],\n",
       "       [3.1866987 ],\n",
       "       [2.00517288],\n",
       "       [2.631119  ],\n",
       "       [2.70253567],\n",
       "       [3.0890259 ],\n",
       "       [2.80230897],\n",
       "       [3.05121707],\n",
       "       [2.57650625],\n",
       "       [5.06033609],\n",
       "       [3.00185555],\n",
       "       [2.79075627],\n",
       "       [2.32444741],\n",
       "       [2.25303074],\n",
       "       [3.19930164],\n",
       "       [2.98400138],\n",
       "       [1.92325375],\n",
       "       [2.84746951],\n",
       "       [2.50193885],\n",
       "       [3.09322688],\n",
       "       [2.78760553],\n",
       "       [3.4471595 ],\n",
       "       [2.63321949],\n",
       "       [2.69833469],\n",
       "       [2.88317784],\n",
       "       [4.20438627],\n",
       "       [2.60486287],\n",
       "       [2.75399769],\n",
       "       [2.38431139],\n",
       "       [1.93690694],\n",
       "       [4.11301494],\n",
       "       [2.84116804],\n",
       "       [3.25496464],\n",
       "       [4.32306398],\n",
       "       [3.91871958],\n",
       "       [2.81491191],\n",
       "       [2.23727706],\n",
       "       [2.0009719 ],\n",
       "       [4.57617306],\n",
       "       [1.96421332],\n",
       "       [3.60469628],\n",
       "       [2.96719746],\n",
       "       [4.91225152],\n",
       "       [3.69396712],\n",
       "       [2.10074519],\n",
       "       [5.98980307],\n",
       "       [3.05121707],\n",
       "       [2.3706582 ],\n",
       "       [2.0776398 ],\n",
       "       [2.84116804],\n",
       "       [2.76765087],\n",
       "       [3.02916192],\n",
       "       [2.64792292],\n",
       "       [1.24269488],\n",
       "       [3.0449156 ],\n",
       "       [2.49668762],\n",
       "       [2.18266431],\n",
       "       [2.71303813],\n",
       "       [3.74122815],\n",
       "       [3.57528941],\n",
       "       [2.46728075],\n",
       "       [2.02407729],\n",
       "       [2.80230897],\n",
       "       [3.77693649],\n",
       "       [3.31062763],\n",
       "       [2.73614352],\n",
       "       [2.96194623],\n",
       "       [2.66997807],\n",
       "       [1.9778665 ],\n",
       "       [4.35247084],\n",
       "       [2.5985614 ],\n",
       "       [4.57827355],\n",
       "       [2.28873908],\n",
       "       [2.84011779],\n",
       "       [3.51542544],\n",
       "       [3.1425884 ],\n",
       "       [3.96282988],\n",
       "       [3.28227101],\n",
       "       [1.52416059],\n",
       "       [2.63426974],\n",
       "       [3.30957738],\n",
       "       [5.13910448],\n",
       "       [3.78533845],\n",
       "       [2.18371456],\n",
       "       [3.12683472],\n",
       "       [2.2288751 ],\n",
       "       [2.11229789],\n",
       "       [2.53554669],\n",
       "       [5.57285573],\n",
       "       [3.27491929],\n",
       "       [3.11738252],\n",
       "       [2.5334462 ],\n",
       "       [3.07222197],\n",
       "       [3.5679377 ],\n",
       "       [2.83591681],\n",
       "       [2.42317046],\n",
       "       [2.39061286],\n",
       "       [1.68169736],\n",
       "       [4.91855299],\n",
       "       [3.4356068 ],\n",
       "       [3.62044996],\n",
       "       [2.73824401],\n",
       "       [4.06365342],\n",
       "       [2.03878072],\n",
       "       [2.22572436],\n",
       "       [3.44925999],\n",
       "       [2.14800622],\n",
       "       [2.32969864],\n",
       "       [2.41791923],\n",
       "       [2.59541067],\n",
       "       [2.23097559],\n",
       "       [4.05000023],\n",
       "       [1.8150785 ],\n",
       "       [2.44522561],\n",
       "       [2.11544862],\n",
       "       [3.3169291 ],\n",
       "       [2.92413741],\n",
       "       [3.04911658],\n",
       "       [2.09339347],\n",
       "       [2.2078702 ],\n",
       "       [2.8380173 ],\n",
       "       [1.81402826],\n",
       "       [2.00517288],\n",
       "       [2.40636653],\n",
       "       [2.60066189],\n",
       "       [2.30239226],\n",
       "       [2.75504793],\n",
       "       [4.52261056],\n",
       "       [5.24622948],\n",
       "       [3.76118281],\n",
       "       [2.64582243],\n",
       "       [1.79722433],\n",
       "       [2.87792662],\n",
       "       [2.16691063],\n",
       "       [1.94740939],\n",
       "       [1.70900374],\n",
       "       [2.39796457],\n",
       "       [2.29924153],\n",
       "       [2.73299278],\n",
       "       [3.49862152],\n",
       "       [2.99660432],\n",
       "       [4.05525146],\n",
       "       [5.97930062],\n",
       "       [3.54588255],\n",
       "       [2.3265479 ],\n",
       "       [2.65212391],\n",
       "       [3.17829674],\n",
       "       [2.24988   ],\n",
       "       [2.62271704],\n",
       "       [2.3706582 ],\n",
       "       [2.75924891],\n",
       "       [3.49547078],\n",
       "       [3.10057859],\n",
       "       [4.25059706],\n",
       "       [2.03247925],\n",
       "       [2.03668023],\n",
       "       [6.25656534],\n",
       "       [2.58070723],\n",
       "       [1.68169736],\n",
       "       [4.26530049],\n",
       "       [2.686782  ],\n",
       "       [4.37557624],\n",
       "       [2.79915823],\n",
       "       [2.44102463],\n",
       "       [1.92850498],\n",
       "       [4.55726865],\n",
       "       [4.55936914],\n",
       "       [3.3704916 ],\n",
       "       [5.68313148],\n",
       "       [3.35368768],\n",
       "       [5.17901379],\n",
       "       [3.09322688],\n",
       "       [3.11528203],\n",
       "       [4.11931641],\n",
       "       [2.8264646 ],\n",
       "       [3.34633597],\n",
       "       [2.56810429],\n",
       "       [3.0008053 ],\n",
       "       [3.90716689],\n",
       "       [2.54604914],\n",
       "       [2.66157611],\n",
       "       [1.71425496],\n",
       "       [2.00622312],\n",
       "       [5.44787656],\n",
       "       [2.28558834],\n",
       "       [2.33915084],\n",
       "       [2.88527833],\n",
       "       [2.25828197],\n",
       "       [2.28558834],\n",
       "       [2.6426717 ],\n",
       "       [3.07642296],\n",
       "       [2.65002341],\n",
       "       [3.71287153],\n",
       "       [4.98786917],\n",
       "       [3.46921465],\n",
       "       [2.26038246],\n",
       "       [4.07730661],\n",
       "       [3.63935437],\n",
       "       [5.99610454],\n",
       "       [2.31394496],\n",
       "       [3.87881027],\n",
       "       [2.27508589],\n",
       "       [3.87670978],\n",
       "       [2.13750377],\n",
       "       [1.73315938],\n",
       "       [4.08570857],\n",
       "       [2.19736774],\n",
       "       [2.32969864],\n",
       "       [1.82137997],\n",
       "       [2.5985614 ],\n",
       "       [2.32969864],\n",
       "       [2.62901851],\n",
       "       [1.97996699],\n",
       "       [3.06802099],\n",
       "       [2.3149952 ],\n",
       "       [3.24341194],\n",
       "       [3.44190828],\n",
       "       [2.56810429],\n",
       "       [2.13960426],\n",
       "       [2.05138367],\n",
       "       [2.55130037],\n",
       "       [1.9778665 ],\n",
       "       [2.24357853],\n",
       "       [4.36822452],\n",
       "       [4.68329807],\n",
       "       [3.96913135],\n",
       "       [3.774836  ],\n",
       "       [3.30117542],\n",
       "       [2.79180651],\n",
       "       [2.89263005]])"
      ]
     },
     "execution_count": 16,
     "metadata": {},
     "output_type": "execute_result"
    }
   ],
   "source": [
    "model.predict(x)"
   ]
  },
  {
   "cell_type": "markdown",
   "id": "7f388949-b81f-4e8a-97da-d3229359526f",
   "metadata": {},
   "source": [
    "### Model evaluation"
   ]
  },
  {
   "cell_type": "markdown",
   "id": "d96c35c8-d0db-49c4-b54d-0f2c1467d162",
   "metadata": {},
   "source": [
    "#### Calculate the model's score"
   ]
  },
  {
   "cell_type": "code",
   "execution_count": 17,
   "id": "0b575126-2e8b-4a09-924f-dd7909878260",
   "metadata": {},
   "outputs": [
    {
     "data": {
      "text/plain": [
       "0.45661658635167657"
      ]
     },
     "execution_count": 17,
     "metadata": {},
     "output_type": "execute_result"
    }
   ],
   "source": [
    "model.score(x, y)"
   ]
  },
  {
   "cell_type": "markdown",
   "id": "1cb3d7ff-7bcb-4cc8-a451-111e8076b0ec",
   "metadata": {},
   "source": [
    "## The K Nearest Neighbours ML Model"
   ]
  },
  {
   "cell_type": "markdown",
   "id": "fd69c0b3-406a-457a-87fa-8c5bfc7505a6",
   "metadata": {},
   "source": [
    "### Fit the model with the data"
   ]
  },
  {
   "cell_type": "code",
   "execution_count": null,
   "id": "0a270e23-caa2-44bb-a4b5-960b971d3eab",
   "metadata": {},
   "outputs": [],
   "source": []
  },
  {
   "cell_type": "markdown",
   "id": "4c5945d2-8142-4143-82b1-82e18e33dfca",
   "metadata": {},
   "source": [
    "### Predictions"
   ]
  },
  {
   "cell_type": "markdown",
   "id": "a8135197-12e7-4970-8ddb-51809b0665ee",
   "metadata": {},
   "source": [
    "#### Calculate the predictions"
   ]
  },
  {
   "cell_type": "code",
   "execution_count": null,
   "id": "f1e74726-20b1-4ec3-86a9-f69ca1d03369",
   "metadata": {},
   "outputs": [],
   "source": []
  },
  {
   "cell_type": "markdown",
   "id": "4175d3ab-3221-4149-8b2e-5b6dda4dd331",
   "metadata": {},
   "source": [
    "### Model evaluation"
   ]
  },
  {
   "cell_type": "markdown",
   "id": "36ef3018-be54-40c2-b18b-4dc1ba480e5b",
   "metadata": {},
   "source": [
    "#### Calculate the model's score"
   ]
  },
  {
   "cell_type": "code",
   "execution_count": null,
   "id": "69410a80-3875-4a6d-96c7-c79e9f4f7319",
   "metadata": {},
   "outputs": [],
   "source": []
  },
  {
   "cell_type": "markdown",
   "id": "37021e5d-c59a-4517-88a3-7de0c3994ab3",
   "metadata": {},
   "source": [
    "## The Random Forest ML Model"
   ]
  },
  {
   "cell_type": "markdown",
   "id": "ee31025e-2830-43dc-8082-f2de0473ec0a",
   "metadata": {},
   "source": [
    "### Fit the model with the data"
   ]
  },
  {
   "cell_type": "code",
   "execution_count": null,
   "id": "e98fcdd6-ca3b-4e0b-ac09-f1b85eb1edfc",
   "metadata": {},
   "outputs": [],
   "source": []
  },
  {
   "cell_type": "markdown",
   "id": "7665a639-5d5a-44c0-ad2a-42357117d473",
   "metadata": {},
   "source": [
    "### Predictions"
   ]
  },
  {
   "cell_type": "markdown",
   "id": "6a662519-7561-43e7-a648-d6f6d81af913",
   "metadata": {},
   "source": [
    "#### Calculate the predictions"
   ]
  },
  {
   "cell_type": "code",
   "execution_count": null,
   "id": "f72f3abf-950d-463b-b236-ef8712e139c0",
   "metadata": {},
   "outputs": [],
   "source": []
  },
  {
   "cell_type": "markdown",
   "id": "a4978b35-2190-4800-bba5-e424aa303af8",
   "metadata": {},
   "source": [
    "### Model evaluation"
   ]
  },
  {
   "cell_type": "markdown",
   "id": "cab19df6-dca5-4c61-8293-2628dde25ff7",
   "metadata": {},
   "source": [
    "#### Calculate the model's score"
   ]
  },
  {
   "cell_type": "code",
   "execution_count": null,
   "id": "1f4acf1a-7328-47f9-a0de-fb14f9d6a275",
   "metadata": {},
   "outputs": [],
   "source": []
  }
 ],
 "metadata": {
  "kernelspec": {
   "display_name": "Python 3 (ipykernel)",
   "language": "python",
   "name": "python3"
  },
  "language_info": {
   "codemirror_mode": {
    "name": "ipython",
    "version": 3
   },
   "file_extension": ".py",
   "mimetype": "text/x-python",
   "name": "python",
   "nbconvert_exporter": "python",
   "pygments_lexer": "ipython3",
   "version": "3.10.8"
  }
 },
 "nbformat": 4,
 "nbformat_minor": 5
}
